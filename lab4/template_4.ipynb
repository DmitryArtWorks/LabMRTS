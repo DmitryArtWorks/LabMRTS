{
 "cells": [
  {
   "cell_type": "code",
   "execution_count": null,
   "metadata": {},
   "outputs": [
    {
     "ename": "TypeError",
     "evalue": "object of type 'float' has no len()",
     "output_type": "error",
     "traceback": [
      "\u001b[1;31m---------------------------------------------------------------------------\u001b[0m",
      "\u001b[1;31mTypeError\u001b[0m                                 Traceback (most recent call last)",
      "Cell \u001b[1;32mIn[1], line 53\u001b[0m\n\u001b[0;32m     49\u001b[0m signal_out \u001b[38;5;241m=\u001b[39m s_c  \u001b[38;5;66;03m# рез-татов фильтрации\u001b[39;00m\n\u001b[0;32m     51\u001b[0m \u001b[38;5;66;03m# %%\u001b[39;00m\n\u001b[0;32m     52\u001b[0m \u001b[38;5;66;03m# Синал во временной области\u001b[39;00m\n\u001b[1;32m---> 53\u001b[0m plot_signal([t_d, signal_out])            \u001b[38;5;66;03m# построение сигнала\u001b[39;00m\n\u001b[0;32m     54\u001b[0m window_opt_len \u001b[38;5;241m=\u001b[39m \u001b[38;5;241m320\u001b[39m\n\u001b[0;32m     55\u001b[0m FFT_size \u001b[38;5;241m=\u001b[39m \u001b[38;5;241m8\u001b[39m\n",
      "File \u001b[1;32md:\\LabMRTS\\lab4\\viewtoolbox.py:48\u001b[0m, in \u001b[0;36mplot_signal\u001b[1;34m(signal_args)\u001b[0m\n\u001b[0;32m     45\u001b[0m plt\u001b[38;5;241m.\u001b[39mfigure()\n\u001b[0;32m     46\u001b[0m \u001b[38;5;28;01mfor\u001b[39;00m i \u001b[38;5;129;01min\u001b[39;00m \u001b[38;5;28mrange\u001b[39m (\u001b[38;5;28mlen\u001b[39m(signal_args)):  \u001b[38;5;66;03m# Цикл по числу линий, переданных в функцию\u001b[39;00m\n\u001b[1;32m---> 48\u001b[0m     args_len \u001b[38;5;241m=\u001b[39m \u001b[38;5;28mlen\u001b[39m(signal_args[i])  \u001b[38;5;66;03m# Определяем, сколько аргументов передано для i-ой линии.\u001b[39;00m\n\u001b[0;32m     49\u001b[0m     \u001b[38;5;28;01mif\u001b[39;00m (args_len \u001b[38;5;241m>\u001b[39m \u001b[38;5;241m3\u001b[39m \u001b[38;5;129;01mor\u001b[39;00m args_len \u001b[38;5;241m<\u001b[39m \u001b[38;5;241m1\u001b[39m): \u001b[38;5;66;03m# Если аргументов оказалось не столько, сколько ожидалось.\u001b[39;00m\n\u001b[0;32m     50\u001b[0m         \u001b[38;5;28;01mraise\u001b[39;00m \u001b[38;5;167;01mTypeError\u001b[39;00m(\u001b[38;5;124m'\u001b[39m\u001b[38;5;124mОшибка ввода. Неверное число аргументов (допускается от 1 до 3 аргументов)\u001b[39m\u001b[38;5;124m'\u001b[39m)\n",
      "\u001b[1;31mTypeError\u001b[0m: object of type 'float' has no len()"
     ]
    },
    {
     "data": {
      "text/plain": [
       "<Figure size 640x480 with 0 Axes>"
      ]
     },
     "metadata": {},
     "output_type": "display_data"
    }
   ],
   "source": [
    "# %% \n",
    "# Лабораторная №4 \n",
    "\"\"\"\n",
    "В программе: \n",
    "1) Загрузка дополнительных библиотек\n",
    "2) Генерация последовательности импульсов\n",
    "3) Вывод сигнала\n",
    "4) Вывод спектрограм\n",
    "    - с коротким окном\n",
    "    - с длинным окном и сдвигом окна на один отсчёт\n",
    "    - с длинным окном с шагом на величину окна\n",
    "5) Карты коэффициентов вейвлет-преобразования\n",
    "\n",
    "Для вывода графиков в отдельное окно используйте\n",
    ">>> %matplotlib qt\n",
    "\"\"\"\n",
    "# %%\n",
    "# Импорт и инициализация\n",
    "from matplotlib import pyplot as plt\n",
    "from viewtoolbox import *\n",
    "from mathtoolbox import *\n",
    "import pywt\n",
    "\n",
    "\n",
    "# Задача - выполнить анализ сигнала с использованием спектрограмм и вейвлет-разложения\n",
    "# Исходные параметры\n",
    "N = 18\n",
    "f_d = 8e6                          # частота дискретизации, Гц\n",
    "t_d = 1/f_d                        # период дискретизации\n",
    "# t_impulse = 1/(1000 + 20*N)*1e3    # длительность импульса (t chip)\n",
    "t_impulse = 40e-6\n",
    "t_window = 80e-6                   # длительность рассматриваемого интервала\n",
    "f_carrier = (1000 + 20*N)*1e3      # частота несущей, Гц\n",
    "f_mod = 0.6e6           \n",
    "i_mod = 0.8                        # параметры модуляции (частота, глубина)\n",
    "n_chips = 8             \n",
    "# %%\n",
    "# Формирование последовательности отсчетов\n",
    "s_c = generate_sequence('chirp', t_d, n_chips, t_impulse, f_carrier);   # ЛЧМ импульс\n",
    "# s_r = generate_sequence('radio', t_d, n_chips, t_impulse, f_carrier);   # р/импульс\n",
    "# s_am = generate_sequence('AM', t_d, n_chips, t_impulse, f_carrier);     # АМ сигнал\n",
    "signal_out = s_c  # рез-татов фильтрации\n",
    "           \n",
    "# %%\n",
    "# Формирование последовательности отсчетов\n",
    "s_c = generate_sequence('chirp', t_d, n_chips, t_impulse, f_carrier);   # ЛЧМ импульс\n",
    "s_r = generate_sequence('radio', t_d, n_chips, t_impulse, f_carrier);   # р/импульс\n",
    "s_am = generate_sequence('AM', t_d, n_chips, t_impulse, f_carrier);     # АМ сигнал\n",
    "signal_out = s_c  # рез-татов фильтрации\n",
    "\n",
    "# %%\n",
    "# Синал во временной области\n",
    "plot_signal([[t_d, signal_out]])            # построение сигнала\n",
    "window_opt_len = 320\n",
    "FFT_size = 8\n",
    "plt.figure()\n",
    "\n",
    "rect = np.ones([window_opt_len, 1])\n",
    "# %%\n",
    "# Анализ спектрограмм \n",
    "# Малый размер окна\n",
    "plt.subplot(311)\n",
    "powerSpectrum, freqenciesFound, time, imageAxis = plt.specgram(signal_out, \n",
    "    NFFT=FFT_size,window=rect[0:FFT_size], noverlap=0)\n",
    "plt.xlabel('Sample')\n",
    "plt.ylabel('Normalized Frequency')\n",
    "# Большой размер окна с шагом на один отсчёт\n",
    "plt.subplot(312)\n",
    "powerSpectrum, freqenciesFound, time, imageAxis = plt.specgram(signal_out, \n",
    "    NFFT=window_opt_len, window=rect, noverlap=window_opt_len-1)\n",
    "plt.xlabel('Sample')\n",
    "plt.ylabel('Normalized Frequency')\n",
    "# Большой размер окна с шагом на величину окна\n",
    "plt.subplot(313)\n",
    "powerSpectrum, freqenciesFound, time, imageAxis = plt.specgram(signal_out, \n",
    "    NFFT=window_opt_len, window=rect, noverlap=0)\n",
    "plt.xlabel('Sample')\n",
    "plt.ylabel('Normalized Frequency')\n",
    "plt.show()\n",
    "\n",
    "\n",
    "# %%\n",
    "# Анализ карт коэффициентов вейвлет-преобразования (скейлограмм)\n",
    "cwtmatr, freqs = pywt.cwt(signal_out, np.arange(1,128), 'morl')\n",
    "plt.figure()\n",
    "plt.imshow(cwtmatr, extent=[-0, len(signal_out), 1, 128], aspect='auto',\n",
    "           vmax=abs(cwtmatr).max(), vmin=-abs(cwtmatr).max())  \n",
    "plt.show() \n"
   ]
  }
 ],
 "metadata": {
  "kernelspec": {
   "display_name": "base",
   "language": "python",
   "name": "python3"
  },
  "language_info": {
   "codemirror_mode": {
    "name": "ipython",
    "version": 3
   },
   "file_extension": ".py",
   "mimetype": "text/x-python",
   "name": "python",
   "nbconvert_exporter": "python",
   "pygments_lexer": "ipython3",
   "version": "3.11.10"
  }
 },
 "nbformat": 4,
 "nbformat_minor": 2
}
