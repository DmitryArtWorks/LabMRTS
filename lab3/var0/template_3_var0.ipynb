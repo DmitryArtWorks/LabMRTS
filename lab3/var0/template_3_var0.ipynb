{
 "cells": [
  {
   "cell_type": "markdown",
   "metadata": {},
   "source": [
    "## Ячейка с импортом библиотек"
   ]
  },
  {
   "cell_type": "code",
   "execution_count": 1,
   "metadata": {},
   "outputs": [],
   "source": [
    "from viewtoolbox import *\n",
    "from mathtoolbox import *\n",
    "\n",
    "%matplotlib widget  "
   ]
  },
  {
   "cell_type": "markdown",
   "metadata": {},
   "source": [
    "## Моделирование фильтров"
   ]
  },
  {
   "cell_type": "markdown",
   "metadata": {},
   "source": [
    "### Исходные параметры (константы)"
   ]
  },
  {
   "cell_type": "markdown",
   "metadata": {},
   "source": [
    "$\\bullet$ Частота дискретизации (Гц), $f_{discretization}$ $ - $ F_D;\n",
    "\n",
    "$\\bullet$ Интервал дискретизации (сек), $t_{discretization}=1/f_{discretization}$ $ - $ T_D;\n",
    "\n",
    "$\\bullet$ Интервал наблюдения (сек), $t_{window}$ $ - $ T_WIN;\n",
    "\n",
    "$\\bullet$ Индекс модуляции, $i_{modulation}$ $ - $ I_MOD;\n",
    "\n",
    "$\\bullet$ Порядок фильтра Баттерворта $ - $ BUT_ORDER;\n",
    "\n",
    "$\\bullet$ Порядок фильтра Чебышева $ - $ CHEB_ORDER;\n",
    "\n",
    "$\\bullet$ Внеполосное ослабление лепестков для фильтра Чебышева $ - $ S_BAND_ATTENUATION_DB."
   ]
  },
  {
   "cell_type": "code",
   "execution_count": 2,
   "metadata": {},
   "outputs": [],
   "source": [
    "# Общие параметры\n",
    "F_D = 5e9   # частота дискретизации, Гц\n",
    "T_D = 1/F_D # период дискретизации\n",
    "\n",
    "# Параметры для моделирования сигнала\n",
    "T_WIN = 12e-6    # длительность рассматриваемого интервала\n",
    "I_MOD = 0.5     # индекс модуляции (глубина)\n",
    "\n",
    "# Параметры для моделирования фильтров\n",
    "BUT_ORDER = 3   # порядок фильтра Баттерворта\n",
    "CHEB_ORDER = 3  # порядок фильтра Чебышева\n",
    "S_BAND_ATTENUATION_DB = 20  # внеполосное ослабление лепестков для фильтра Чебышева"
   ]
  },
  {
   "cell_type": "markdown",
   "metadata": {},
   "source": [
    "### Формирование сигнала с заданными параметрами"
   ]
  },
  {
   "cell_type": "markdown",
   "metadata": {},
   "source": [
    "**Задание:**\n",
    "\n",
    "$ \\hspace{1cm} \\bullet$ Задать необходимые параметры сигнала и фильтра согласно своему варианту. <br>\n",
    "$ \\hspace{1cm} \\bullet$ Выполнить формирование сигнала, заданного по варианту. Отобразить осциллограмму и спектр полученного сигнала. <br>\n",
    "$ \\hspace{1cm} \\bullet$ Синтезировать АЧХ фильтра, заданного по варианту. Для этого необходимо дописать функцию apply_ideal_filter(), которая находится в mathtoolbox.py. Отобразить осциллограмму и спектр полученного сигнала. <br>\n",
    "$ \\hspace{1cm} \\bullet$ Сформировать фильтры Баттерворта и Чебышева (1го и 2го порядка). Отобразить их импульсную характеристику, АЧХ и ФЧХ.\n",
    "\n",
    "**Все необходимые функции реализованы в файлах mathtoolbox.py и viewtoolbolx.py.**"
   ]
  },
  {
   "cell_type": "markdown",
   "metadata": {},
   "source": [
    "*Параметры по варианту:*"
   ]
  },
  {
   "cell_type": "markdown",
   "metadata": {},
   "source": [
    "$\\bullet$ Длительность импульса (сек), $ t_{chirp}$ $ - $ t_ch;\n",
    "\n",
    "$\\bullet$ Частота несущей (Гц), $f_{carrier}$ $ - $ f_car;\n",
    "\n",
    "$\\bullet$ Частота модулирующей гармоники, $ f_{modulation}$ $ - $ f_mod;\n",
    "\n",
    "$\\bullet$ Тип фильтра (LP/HP/BP/BS) $ - $ f_type;\n",
    "\n",
    "$\\bullet$ Частота среза (Гц), $f_{cut}$ $ - $ f_cut_hz."
   ]
  },
  {
   "cell_type": "code",
   "execution_count": 3,
   "metadata": {},
   "outputs": [],
   "source": [
    "# Параметры для моделирования сигнала (возможно, какие-то параметры могут не понадобиться)\n",
    "t_ch = ...      # длительность импульса (t chirp)\n",
    "f_car = ...     # частота несущей, Гц\n",
    "f_mod = ...     # частота модулирующей синусоиды, Гц\n",
    "\n",
    "# Параметры для моделирования фильтров\n",
    "f_type = ...        # тип фильтра (LP/HP/BP/BS)\n",
    "f_cut_hz = ...      # частота среза, Гц"
   ]
  },
  {
   "cell_type": "markdown",
   "metadata": {},
   "source": [
    "*Формирование последовательности отсчетов:*"
   ]
  },
  {
   "cell_type": "code",
   "execution_count": null,
   "metadata": {},
   "outputs": [],
   "source": [
    "s = ...\n",
    "\n",
    "# Циклически \"сдвигаем\" отсчеты сигнала, чтобы, например, видеоимпульс\n",
    "# начинался не с первого же отсчета\n",
    "s = np.roll(s, math.floor(len(s)/2))"
   ]
  },
  {
   "cell_type": "markdown",
   "metadata": {},
   "source": [
    "*Отображение сигнала во временной и частотной областях:*"
   ]
  },
  {
   "cell_type": "code",
   "execution_count": null,
   "metadata": {},
   "outputs": [],
   "source": [
    "# \"Упаковка\" сигналов, на которые хотим посмотреть, в вид, распознаваемый\n",
    "# функциями отрисовки. Подробности см. в описаниях функций plot_signal()\n",
    "# и plot_spectrum()\n",
    "signal_out = [[T_D, s, 'Название импульса']]\n",
    "\n",
    "plot_signal(signal_out) # отобразить сигнал\n",
    "plot_spectum(signal_out)    # отобразить спектр сигнала"
   ]
  },
  {
   "cell_type": "markdown",
   "metadata": {},
   "source": [
    "### Сравнение синтезированных фильтров"
   ]
  },
  {
   "cell_type": "markdown",
   "metadata": {},
   "source": [
    "*Получение сигнала на выходе синтезированных фильтров:*"
   ]
  },
  {
   "cell_type": "code",
   "execution_count": null,
   "metadata": {},
   "outputs": [],
   "source": [
    "signal_in = s   # выбрать сигнал, который будет отфильтрован.\n",
    "                # Переменная нужна, чтобы во все фильтры гарантированно\n",
    "                # попал один и тот же сигнал, иначе можно сравнивать\n",
    "                # разные сигналы и удивлять, что они разные\n",
    "\n",
    "# Применить к сигналу фильтры. Подробности в описании функций\n",
    "signal_out_idl = ...    # применить к сигналу идеальный фильтр\n",
    "signal_out_btr = ...    # применить к сигналу ф. Баттерворта\n",
    "signal_out_chb = ...    # применить к сигналу ф. Чебышева"
   ]
  },
  {
   "cell_type": "markdown",
   "metadata": {},
   "source": [
    "*Отображение осциллограммы и спектра сигналов на выходе различных фильтров:*"
   ]
  },
  {
   "cell_type": "code",
   "execution_count": null,
   "metadata": {},
   "outputs": [],
   "source": [
    "# Отображение данных\n",
    "signal_out = [[T_D, signal_out_idl, 'ideal'],\n",
    "              [T_D, signal_out_btr, 'butterworth'], \n",
    "              [T_D, signal_out_chb, 'chebyshev']] # конкатенация рез-татов фильтрации\n",
    "\n",
    "plot_signal(signal_out) # отобразить фильтрованные сигналы\n",
    "plot_spectum(signal_out) # отобразить спектр "
   ]
  },
  {
   "cell_type": "markdown",
   "metadata": {},
   "source": [
    "*Построение импульсной характеристики фильтров:*"
   ]
  },
  {
   "cell_type": "code",
   "execution_count": null,
   "metadata": {},
   "outputs": [],
   "source": [
    "# Получение коэффициентов передаточной функции фильтров для построения импульсной характеристики\n",
    "b_butt, a_butt = ...    # формирование фильтра Баттерворта\n",
    "b_cheb1, a_cheb1 = ...  # формирование фильтра Чебышего 1-го порядка\n",
    "b_cheb2, a_cheb2 = ...  # формирование фильтра Чебышего 2-го порядка\n",
    "\n",
    "# Отображение импульсных характеристик фильтров\n",
    "impz(b_butt, a_butt, 'Баттерворт')\n",
    "impz(b_cheb1,a_cheb1, 'Чебышев 1-го порядка')\n",
    "impz(b_cheb2,a_cheb2, 'Чебышев 2-го порядка')"
   ]
  },
  {
   "cell_type": "markdown",
   "metadata": {},
   "source": [
    "*Построение АЧХ и ФЧХ синтезированных фильтров:*"
   ]
  },
  {
   "cell_type": "code",
   "execution_count": null,
   "metadata": {},
   "outputs": [],
   "source": [
    "b = [b_butt, b_cheb1, b_cheb2]\n",
    "a = [a_butt, a_cheb1, a_cheb2]\n",
    "legend_filters = ['Батт', 'Чеб1-го пор', 'Чеб 2-го пор']\n",
    "\n",
    "mfreqz3(b, a, legend_filters)"
   ]
  }
 ],
 "metadata": {
  "kernelspec": {
   "display_name": "Python 3",
   "language": "python",
   "name": "python3"
  },
  "language_info": {
   "codemirror_mode": {
    "name": "ipython",
    "version": 3
   },
   "file_extension": ".py",
   "mimetype": "text/x-python",
   "name": "python",
   "nbconvert_exporter": "python",
   "pygments_lexer": "ipython3",
   "version": "3.12.6"
  }
 },
 "nbformat": 4,
 "nbformat_minor": 2
}
